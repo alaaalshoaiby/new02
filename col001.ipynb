{
  "nbformat": 4,
  "nbformat_minor": 0,
  "metadata": {
    "colab": {
      "provenance": [],
      "authorship_tag": "ABX9TyOylCJ4kB07KK+B2x8k/5Ou"
    },
    "kernelspec": {
      "name": "python3",
      "display_name": "Python 3"
    },
    "language_info": {
      "name": "python"
    },
    "accelerator": "TPU"
  },
  "cells": [
    {
      "cell_type": "code",
      "execution_count": 1,
      "metadata": {
        "id": "_hprloODWRek"
      },
      "outputs": [],
      "source": [
        "x=0"
      ]
    },
    {
      "cell_type": "code",
      "source": [],
      "metadata": {
        "id": "unlRkaEkWcdn"
      },
      "execution_count": null,
      "outputs": []
    }
  ]
}